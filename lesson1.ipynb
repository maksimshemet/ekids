{
 "cells": [
  {
   "cell_type": "markdown",
   "metadata": {},
   "source": [
    "Hi there! Welcome to the first Python exercises! Before we get started, I need to explain some things. First, every time you see a gray box with the words **In [ ]**, like this:"
   ]
  },
  {
   "cell_type": "markdown",
   "metadata": {},
   "source": [
    "## Welcome"
   ]
  },
  {
   "cell_type": "code",
   "execution_count": 6,
   "metadata": {},
   "outputs": [],
   "source": [
    "from check import *"
   ]
  },
  {
   "cell_type": "code",
   "execution_count": null,
   "metadata": {},
   "outputs": [],
   "source": []
  },
  {
   "cell_type": "code",
   "execution_count": null,
   "metadata": {},
   "outputs": [],
   "source": []
  },
  {
   "cell_type": "markdown",
   "metadata": {},
   "source": [
    "When we *program* a project, we often have to store things. These *things* are pieces of information we call \"data\", and today's assignment is all about making data and holding it in *variables*. Variables are like little boxes that can hold some data. Each variable has a name. This lets us get or change the data in a variable by using its name.\n",
    "\n",
    "Of course this will make sense as we play with it. Let's begin.\n",
    "\n",
    "Your first assignment is to put the number 42 into a variable box named \"pizza\". I told you that a variable could be named just about anything."
   ]
  },
  {
   "cell_type": "code",
   "execution_count": 7,
   "metadata": {
    "collapsed": false,
    "jupyter": {
     "outputs_hidden": false
    }
   },
   "outputs": [
    {
     "name": "stdout",
     "output_type": "stream",
     "text": [
      "You did it! Have a cookie.\n"
     ]
    },
    {
     "data": {
      "text/html": [
       "<img src=\"http://openclipart.org/image/250px/svg_to_png/130009/cookie.png\"/>"
      ],
      "text/plain": [
       "<IPython.core.display.Image object>"
      ]
     },
     "execution_count": 7,
     "metadata": {},
     "output_type": "execute_result"
    }
   ],
   "source": [
    "pizza = 42\n",
    "\n",
    "check(1, 1, pizza)   ## This is one of those lines to ignore right now."
   ]
  },
  {
   "cell_type": "code",
   "execution_count": null,
   "metadata": {},
   "outputs": [],
   "source": []
  },
  {
   "cell_type": "code",
   "execution_count": null,
   "metadata": {},
   "outputs": [],
   "source": []
  },
  {
   "cell_type": "code",
   "execution_count": null,
   "metadata": {},
   "outputs": [],
   "source": []
  },
  {
   "cell_type": "code",
   "execution_count": null,
   "metadata": {},
   "outputs": [],
   "source": []
  },
  {
   "cell_type": "code",
   "execution_count": null,
   "metadata": {},
   "outputs": [],
   "source": []
  },
  {
   "cell_type": "code",
   "execution_count": null,
   "metadata": {},
   "outputs": [],
   "source": []
  },
  {
   "cell_type": "code",
   "execution_count": null,
   "metadata": {},
   "outputs": [],
   "source": []
  },
  {
   "cell_type": "code",
   "execution_count": null,
   "metadata": {},
   "outputs": [],
   "source": []
  },
  {
   "cell_type": "code",
   "execution_count": null,
   "metadata": {},
   "outputs": [],
   "source": []
  },
  {
   "cell_type": "code",
   "execution_count": null,
   "metadata": {},
   "outputs": [],
   "source": []
  },
  {
   "cell_type": "code",
   "execution_count": null,
   "metadata": {},
   "outputs": [],
   "source": []
  },
  {
   "cell_type": "code",
   "execution_count": null,
   "metadata": {},
   "outputs": [],
   "source": []
  },
  {
   "cell_type": "code",
   "execution_count": null,
   "metadata": {},
   "outputs": [],
   "source": []
  },
  {
   "cell_type": "code",
   "execution_count": null,
   "metadata": {},
   "outputs": [],
   "source": []
  },
  {
   "cell_type": "code",
   "execution_count": null,
   "metadata": {},
   "outputs": [],
   "source": []
  },
  {
   "cell_type": "markdown",
   "metadata": {},
   "source": [
    "Python has two types of numbers:\n",
    "\n",
    "  * A regular, whole number like 1, 8, -142 or 275382876634695077374\n",
    "  * A fraction/decimal number like 5.5 (for $5 \\frac{1}{2}$)\n",
    "\n",
    "In this assignment, you need to put $2\\frac{1}{2}$ into the `apple` variable. In Python, we first right all fractions as decimals, so first convert $2\\frac{1}{2}$ to a decimal, and the assignment will be almost done:"
   ]
  },
  {
   "cell_type": "code",
   "execution_count": 9,
   "metadata": {},
   "outputs": [
    {
     "name": "stdout",
     "output_type": "stream",
     "text": [
      "You did it! Have another cookie.\n"
     ]
    },
    {
     "data": {
      "text/html": [
       "<img src=\"http://openclipart.org/image/250px/svg_to_png/130009/cookie.png\"/>"
      ],
      "text/plain": [
       "<IPython.core.display.Image object>"
      ]
     },
     "execution_count": 9,
     "metadata": {},
     "output_type": "execute_result"
    }
   ],
   "source": [
    "apple = 2.5\n",
    "\n",
    "check(1, 2, apple)"
   ]
  },
  {
   "cell_type": "markdown",
   "metadata": {},
   "source": [
    "Python can also store words. If Python sees words like `orange`, it will think that is a variable, so if we want to use the words \"coconut shells\", you have to put them in quotes, like this:\n",
    "\n",
    "    carrying = \"coconut shells\"\n",
    "\n",
    "The same words can be placed in more than one variable box. For instance, this is fine:\n",
    "\n",
    "    carrying = \"coconut shells\"\n",
    "    banging = \"coconut shells\"\n",
    "\n",
    "In this assignment, I want you to introduce yourself by putting your name in the `name` variable. Remember the quotes!"
   ]
  },
  {
   "cell_type": "code",
   "execution_count": 11,
   "metadata": {
    "collapsed": false,
    "jupyter": {
     "outputs_hidden": false
    }
   },
   "outputs": [
    {
     "name": "stdout",
     "output_type": "stream",
     "text": [
      "Hello, vasyl, it is nice to meet you.\n"
     ]
    },
    {
     "data": {
      "text/html": [
       "<img src=\"http://openclipart.org/image/250px/svg_to_png/167186/Hello.png\"/>"
      ],
      "text/plain": [
       "<IPython.core.display.Image object>"
      ]
     },
     "execution_count": 11,
     "metadata": {},
     "output_type": "execute_result"
    }
   ],
   "source": [
    "name = \"vasyl\"\n",
    "\n",
    "check(1, 3, name)"
   ]
  },
  {
   "cell_type": "markdown",
   "metadata": {},
   "source": [
    "Words in quotes are called *strings* ... think of it like *stringing words and letters together*. You can use either the double quotes (\") or the single quotes ('). We usually choose double quotes if the string or words we are writing uses an apostrophe, like:\n",
    "\n",
    "    weapon = \"King Arthur's sword is Excalibur\"\n",
    "\n",
    "If we want our string of words to be quoted, then we wrap up the string in single quotes, like this:\n",
    "\n",
    "    reading = 'I am reading, \"The Holy Grail\".'\n",
    "\n",
    "**Warning:** The start and end of your string must use the same type of quote. You can mis-match them. For instance, the following is wrong:\n",
    "\n",
    "    bird = \"Unladen swallow'   <-- Error!\n",
    "\n",
    "Now it is time to practice. I want you to write a sentence about *Pat's ball* and assign it to the variable `sentence`:\n"
   ]
  },
  {
   "cell_type": "code",
   "execution_count": null,
   "metadata": {
    "collapsed": false,
    "jupyter": {
     "outputs_hidden": false
    }
   },
   "outputs": [],
   "source": [
    "sentence = _\n",
    "\n",
    "check(1, 4, sentence)"
   ]
  },
  {
   "cell_type": "markdown",
   "metadata": {},
   "source": [
    "What if you wanted to write a *paragraph* that needed more than one line? To do this, you use *three quotes*, like this:\n",
    "\n",
    "    paragraph = \"\"\"Flora and Charlie are nice kids who like to play ball with the kids across the street.\n",
    "    One day, Flora and Charlie went across the street, but...\"\"\"\n",
    "\n",
    "For this next assignment, write a paragraph of words that has at least two lines in it:"
   ]
  },
  {
   "cell_type": "code",
   "execution_count": null,
   "metadata": {
    "collapsed": false,
    "jupyter": {
     "outputs_hidden": false
    }
   },
   "outputs": [],
   "source": [
    "paragraph = _\n",
    "\n",
    "check(1, 5, paragraph)"
   ]
  },
  {
   "cell_type": "markdown",
   "metadata": {},
   "source": [
    "A variable can't be named anything. For instance, you can not use a space inside a variable name. You can guess why, right? Look at this example:\n",
    "\n",
    "    i like = \"spam\"\n",
    "\n",
    "That's right, Python will think that \"i\" and \"like\" are two different variables. If you want a variable to look like two words, use an *underbar* (we sometimes call that symbol an *underscore*), like this:\n",
    "\n",
    "    i_like = \"spam\"\n",
    "\n",
    "Also, each variable must start with a letter. After that, it can be letters or numbers or the underbar.\n",
    "\n",
    "What about the spaces around the equals sign? Python doesn't care about those spaces. The following three lines are the same to Python:\n",
    "\n",
    "    breakfast=\"spam and eggs\"\n",
    "    breakfast = \"spam and eggs\"\n",
    "    breakfast         =        \"spam and eggs\"\n",
    "\n",
    "Why do we use spaces? I think Python code with spaces is more readable. But that is up to you."
   ]
  }
 ],
 "metadata": {
  "kernelspec": {
   "display_name": "Python 3",
   "language": "python",
   "name": "python3"
  },
  "language_info": {
   "codemirror_mode": {
    "name": "ipython",
    "version": 3
   },
   "file_extension": ".py",
   "mimetype": "text/x-python",
   "name": "python",
   "nbconvert_exporter": "python",
   "pygments_lexer": "ipython3",
   "version": "3.7.3"
  }
 },
 "nbformat": 4,
 "nbformat_minor": 4
}
