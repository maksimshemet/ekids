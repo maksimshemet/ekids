{
 "cells": [
  {
   "cell_type": "code",
   "execution_count": null,
   "metadata": {},
   "outputs": [],
   "source": [
    "from check.check import test"
   ]
  },
  {
   "cell_type": "markdown",
   "metadata": {},
   "source": [
    "<h1>Базовые типы и конструкции</h1>\n",
    "<h2>Базовые типы: численные типы</h2>\n",
    "\n",
    "Переменные в Python-е бывают разных типов. Например, тип int используется для целых чисел."
   ]
  },
  {
   "cell_type": "code",
   "execution_count": null,
   "metadata": {},
   "outputs": [],
   "source": [
    "num = 13\n",
    "print(type(num))"
   ]
  },
  {
   "cell_type": "markdown",
   "metadata": {},
   "source": [
    "<h3>Функция type() из этого примера возвращает тип переменной.</h3>\n",
    "Python умеет работать с числами с плавающей точкой. Такие переменные имеют тип float, целая и дробная части отделяются точкой. Также Python поддерживает экспонен- циальную нотацию записи вещественного числа."
   ]
  },
  {
   "cell_type": "code",
   "execution_count": null,
   "metadata": {},
   "outputs": [],
   "source": [
    "num = 13.4 \n",
    "print(num)\n",
    "\n",
    "num = 1.5*3\n",
    "\n",
    "print(num)\n",
    "print(type(num))"
   ]
  },
  {
   "cell_type": "code",
   "execution_count": null,
   "metadata": {},
   "outputs": [],
   "source": [
    "num = int(num)\n",
    "print(num, type(num))\n",
    "\n",
    "num = float(num)\n",
    "print(num, type(num))"
   ]
  },
  {
   "cell_type": "markdown",
   "metadata": {},
   "source": [
    "<h4>Обратите внимание, что в процессе конвертации переменной num мы потеряли дроб- ную часть вещественного числа.</h4>\n",
    "Python умеет работать с комплексными числами:"
   ]
  },
  {
   "cell_type": "code",
   "execution_count": null,
   "metadata": {},
   "outputs": [],
   "source": [
    "num = 14 + 1j\n",
    "print(type(num)) \n",
    "print(num.real) \n",
    "print(num.imag)"
   ]
  },
  {
   "cell_type": "markdown",
   "metadata": {},
   "source": [
    "<h2>1. Упражнения на числа</h2>\n",
    "\n",
    "1.1 Поменяйте значения переменных pizza, ark, dest так что бы:\n",
    "  - **ark** было целое число.\n",
    "  - **pizza** число с плавающей точкой\n",
    "  - **dest**  сумма ark + pizza, и иметь тип **int**.\n",
    "    "
   ]
  },
  {
   "cell_type": "code",
   "execution_count": null,
   "metadata": {},
   "outputs": [],
   "source": [
    "pizza = 1\n",
    "ark = 2\n",
    "dest = 2\n",
    "\n",
    "\n",
    "test('1.1',pizza,ark,dest)"
   ]
  }
 ],
 "metadata": {
  "kernelspec": {
   "display_name": "Python 3",
   "language": "python",
   "name": "python3"
  },
  "language_info": {
   "codemirror_mode": {
    "name": "ipython",
    "version": 3
   },
   "file_extension": ".py",
   "mimetype": "text/x-python",
   "name": "python",
   "nbconvert_exporter": "python",
   "pygments_lexer": "ipython3",
   "version": "3.7.3"
  }
 },
 "nbformat": 4,
 "nbformat_minor": 4
}
