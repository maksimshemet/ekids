{
 "cells": [
  {
   "attachments": {
    "image.png": {
     "image/png": "[encoded data removed]"
    }
   },
   "cell_type": "markdown",
   "metadata": {},
   "source": [
    "## Для запуска кода нужно нажать  ![image.png](attachment:image.png)  эту кнопку, она находиться чуть выше и левее."
   ]
  },
  {
   "cell_type": "code",
   "execution_count": null,
   "metadata": {},
   "outputs": [],
   "source": [
    "from check.check import test"
   ]
  },
  {
   "cell_type": "markdown",
   "metadata": {},
   "source": [
    "<h1>Базовые типы и конструкции</h1>\n",
    "<h2>1. Базовые типы: численные типы</h2>\n",
    "\n",
    "<p>Переменные в Python-е бывают разных типов. Например, тип int используется для целых чисел.</p>"
   ]
  },
  {
   "cell_type": "code",
   "execution_count": null,
   "metadata": {},
   "outputs": [],
   "source": [
    "num = 13\n",
    "print(type(num))"
   ]
  },
  {
   "cell_type": "markdown",
   "metadata": {},
   "source": [
    "<h3>Функция type() из этого примера возвращает тип переменной.</h3>\n",
    "Python умеет работать с числами с плавающей точкой. Такие переменные имеют тип float, целая и дробная части отделяются точкой. Также Python поддерживает экспонен- циальную нотацию записи вещественного числа."
   ]
  },
  {
   "cell_type": "code",
   "execution_count": null,
   "metadata": {},
   "outputs": [],
   "source": [
    "num = 13.4 \n",
    "print(num)\n",
    "\n",
    "num = 1.5*3\n",
    "\n",
    "print(num)\n",
    "print(type(num))"
   ]
  },
  {
   "cell_type": "code",
   "execution_count": null,
   "metadata": {},
   "outputs": [],
   "source": [
    "num = int(num)\n",
    "print(num, type(num))\n",
    "\n",
    "num = float(num)\n",
    "print(num, type(num))"
   ]
  },
  {
   "cell_type": "markdown",
   "metadata": {},
   "source": [
    "<h4>Обратите внимание, что в процессе конвертации переменной num мы потеряли дроб- ную часть вещественного числа.</h4>\n",
    "Python умеет работать с комплексными числами:"
   ]
  },
  {
   "cell_type": "code",
   "execution_count": null,
   "metadata": {},
   "outputs": [],
   "source": [
    "num = 14 + 1j\n",
    "print(type(num)) \n",
    "print(num.real) \n",
    "print(num.imag)"
   ]
  },
  {
   "cell_type": "markdown",
   "metadata": {},
   "source": [
    "<h2>1. Упражнения на числа</h2>\n",
    "\n",
    "1.1 Поменяйте значения переменных pizza, ark, dest так что бы:\n",
    "  - **ark** было целое число.\n",
    "  - **pizza** число с плавающей точкой\n",
    "  - **dest**  сумма ark + pizza, и иметь тип **int**.\n",
    "    "
   ]
  },
  {
   "cell_type": "code",
   "execution_count": null,
   "metadata": {},
   "outputs": [],
   "source": [
    "pizza = None\n",
    "ark = None\n",
    "dest = None\n",
    "\n",
    "\n",
    "test('1.1',pizza,ark,dest)"
   ]
  },
  {
   "cell_type": "markdown",
   "metadata": {},
   "source": [
    "<h2>2. Базовые типы: логический тип</h2>\n",
    "<p>В Python существует логический тип bool. Переменные этого типа могут принимать зна- чение либо True, либо False. Логические типы нужны тогда, когда необходимо проверить на истинность некоторое выражение.</p>"
   ]
  },
  {
   "cell_type": "code",
   "execution_count": null,
   "metadata": {},
   "outputs": [],
   "source": [
    "print(3 > 4)\n",
    "print(3 <= 3)\n",
    "print(6 >= 6)\n",
    "print(6 < 5)\n",
    "print(6 == 6)        # !! Обратите внимание на то что два знака равно (==) это операция сравнения\n",
    "print(6 != 6)        # !! Обратите внимание что ! перед равно, это приставке НЕ. Пример: 1 != 2, один НЕ равно 2. ? что вернет данное выражение?\n"
   ]
  },
  {
   "cell_type": "markdown",
   "metadata": {},
   "source": [
    "<h2>2. Упражнения на логический тип</h2>\n",
    "\n",
    "2.1 Замените * на один из знаков:\n",
    "   - \\>  больше\n",
    "   - <  меньше\n",
    "   - ==  равно\n",
    "   - !=  не равно\n",
    "\n",
    "Так что бы:\n",
    "   - l_result_1 == True\n",
    "   - l_result_2 == False\n",
    "   - l_result_3 == True\n",
    "   - l_result_4 == False\n",
    "   \n",
    "Пример:  *l_result_test == True*: \n",
    "l_result_test должен равнятся True. для этого я заменю _ на >\n",
    "\n",
    "num1 = 13\n",
    "\n",
    "num2 = 12\n",
    "\n",
    "l_result_test = (num1 > num2) "
   ]
  },
  {
   "cell_type": "code",
   "execution_count": null,
   "metadata": {},
   "outputs": [],
   "source": [
    "num1 = 122\n",
    "num2 = 12\n",
    "\n",
    "l_result_1 = (num1 * num2)\n",
    "\n",
    "num1 = 1.3\n",
    "num2 = 15\n",
    "\n",
    "l_result_2 =  (num1 * num2)\n",
    "\n",
    "num1 = 15\n",
    "num2 = 15\n",
    "\n",
    "l_result_3 =  (num1 * num2)\n",
    "\n",
    "num1 = 15\n",
    "num2 = 15\n",
    "\n",
    "l_result_4 =  (num1 * num2)\n",
    "\n",
    "test('2.1', l_result_1, l_result_2, l_result_3, l_result_4)"
   ]
  },
  {
   "cell_type": "markdown",
   "metadata": {},
   "source": [
    "<h1>3. Базовые типы: строки и байтовые строки</h1>\n",
    "Строка – это неизменяемая последовательность юникодных символов."
   ]
  },
  {
   "cell_type": "code",
   "execution_count": null,
   "metadata": {},
   "outputs": [],
   "source": [
    "example_string = \"Курс про Python Ekids\" \n",
    "print(example_string)"
   ]
  },
  {
   "cell_type": "code",
   "execution_count": null,
   "metadata": {},
   "outputs": [],
   "source": [
    "print(type(example_string))"
   ]
  },
  {
   "cell_type": "markdown",
   "metadata": {},
   "source": [
    "**Как объединить 2 строки в одну?**"
   ]
  },
  {
   "cell_type": "code",
   "execution_count": null,
   "metadata": {},
   "outputs": [],
   "source": [
    "\"Можно\" + \" просто \" + \"складывать\" + \" строки\""
   ]
  },
  {
   "cell_type": "markdown",
   "metadata": {},
   "source": [
    "<img src=\"https://media.giphy.com/media/5i7umUqAOYYEw/giphy.gif\">"
   ]
  },
  {
   "cell_type": "markdown",
   "metadata": {},
   "source": [
    "**Важно помнить, что строки --- неизменяемый тип.**\n",
    "\n",
    "Срезы строк *(\\<string>\\[**начало**:**конец**:**шаг**\\])* удобны для того, чтобы из строки выре- зать какую-то подстроку. \n",
    "\n",
    "Синтаксис срезов посмотрим на примере:"
   ]
  },
  {
   "cell_type": "code",
   "execution_count": null,
   "metadata": {},
   "outputs": [],
   "source": [
    "example_string = \"Курс про Python Ekids\" \n",
    "example_string[9:15]"
   ]
  },
  {
   "cell_type": "markdown",
   "metadata": {},
   "source": [
    "Оператор **in** позволяет проверить наличие подстроки в строке:"
   ]
  },
  {
   "cell_type": "code",
   "execution_count": null,
   "metadata": {},
   "outputs": [],
   "source": [
    "\"3.14\" in \"Число Пи = 3.1415926\""
   ]
  },
  {
   "cell_type": "markdown",
   "metadata": {},
   "source": [
    "Выражение **for .. in** позволяет итерироваться по строке:"
   ]
  },
  {
   "cell_type": "code",
   "execution_count": null,
   "metadata": {},
   "outputs": [],
   "source": [
    "example_string = \"Привет\"\n",
    "for letter in example_string:\n",
    "    print(\"Буква\", letter)"
   ]
  },
  {
   "cell_type": "markdown",
   "metadata": {},
   "source": [
    "\n",
    "**К строкам можно применить конвертацию типов.**\n",
    "\n",
    "Например, мы можем преобразовать вещественное число в переменную типа str:"
   ]
  },
  {
   "cell_type": "code",
   "execution_count": null,
   "metadata": {},
   "outputs": [],
   "source": [
    "num = 999.01 \n",
    "num_string = str(num)\n",
    "print(type(num_string)) \n",
    "num_string"
   ]
  },
  {
   "cell_type": "markdown",
   "metadata": {},
   "source": [
    "**Если мы попробуем преобразовать непустую строку к логическому типу, получим True.**\n",
    "\n",
    "**Пустая же строка (не содержащая ни одного символа) при конвертации в логический тип возвращает False.**"
   ]
  },
  {
   "cell_type": "code",
   "execution_count": null,
   "metadata": {},
   "outputs": [],
   "source": [
    "a = \"Alo\"\n",
    "a = bool(a)\n",
    "\n",
    "print(type(a)) \n",
    "a"
   ]
  }
 ],
 "metadata": {
  "kernelspec": {
   "display_name": "Python 3",
   "language": "python",
   "name": "python3"
  },
  "language_info": {
   "codemirror_mode": {
    "name": "ipython",
    "version": 3
   },
   "file_extension": ".py",
   "mimetype": "text/x-python",
   "name": "python",
   "nbconvert_exporter": "python",
   "pygments_lexer": "ipython3",
   "version": "3.7.3"
  }
 },
 "nbformat": 4,
 "nbformat_minor": 4
}
