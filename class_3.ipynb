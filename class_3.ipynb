{
 "cells": [
  {
   "cell_type": "markdown",
   "metadata": {},
   "source": [
    "# Синтаксис инструкции if\n",
    "##### Сначала записывается часть if с условным выражением, далее могут следовать одна или более \n",
    "##### необязательных частей elif, и, наконец, необязательная часть else. \n",
    "##### Общая форма записи условной инструкции if выглядит следующим образом:"
   ]
  },
  {
   "cell_type": "code",
   "execution_count": null,
   "metadata": {},
   "outputs": [],
   "source": [
    "test1 = False\n",
    "test2 = True\n",
    "\n",
    "\n",
    "if test1:\n",
    "    print(\"test1\")\n",
    "    \n",
    "elif test2:\n",
    "    print(\"test2\")\n",
    "    \n",
    "else:\n",
    "    print(\"test3\")"
   ]
  },
  {
   "cell_type": "markdown",
   "metadata": {},
   "source": [
    "##### Чуть более сложный пример (его результат будет зависеть от того, что ввёл пользователь):"
   ]
  },
  {
   "cell_type": "code",
   "execution_count": null,
   "metadata": {},
   "outputs": [],
   "source": [
    "a = int(input(\"Введите число: \"))\n",
    "\n",
    "if a < -5:\n",
    "    print('Меньше -5')\n",
    "\n",
    "elif -5 <= a <= 5:\n",
    "    print('Между -5 и 5 ')\n",
    "\n",
    "else:\n",
    "    print('Больше 5')"
   ]
  },
  {
   "cell_type": "markdown",
   "metadata": {},
   "source": [
    "## Упражнения\n",
    "\n",
    "3.1 С помощью if elif else, конструкции сделайте следующее:\n",
    "\n",
    "    - если переменная var > 900 то переменная check = 12\n",
    "    - если переменная var < 50 то переменная check = 1\n",
    "    - если переменная var >= 55 то переменная check = 15\n",
    "    "
   ]
  },
  {
   "cell_type": "code",
   "execution_count": null,
   "metadata": {},
   "outputs": [],
   "source": [
    "from random import randint\n",
    "from check.check import test\n",
    "\n",
    "var = randint(1,1000)\n",
    "check = 0\n",
    "\n",
    "\n",
    "if:\n",
    "    pass\n",
    "elif:\n",
    "    pass\n",
    "else:\n",
    "    pass\n",
    "\n",
    "\n",
    "\n",
    "test('3.1', var, check)"
   ]
  },
  {
   "cell_type": "markdown",
   "metadata": {},
   "source": [
    "#### Random Mem"
   ]
  },
  {
   "cell_type": "code",
   "execution_count": null,
   "metadata": {},
   "outputs": [],
   "source": [
    "import urllib3, json\n",
    "from random import randint\n",
    "from IPython.display import display, Image\n",
    "urllib3.disable_warnings(urllib3.exceptions.InsecureRequestWarning)\n",
    "\n",
    "\n",
    "def getRandomMeme():\n",
    "    \n",
    "    filename = \"meme.jpg\"\n",
    "    http = urllib3.PoolManager()\n",
    "    try:\n",
    "        r = http.request('GET', 'https://api.imgflip.com/get_memes')\n",
    "    except Exception as ex:\n",
    "        pass\n",
    "    \n",
    "    print(r.status)\n",
    "    print(len(json.loads(r.data)['data']['memes']))\n",
    "    random_meme = randint(0, len(json.loads(r.data)['data']['memes']) - 1)\n",
    "    meme_url = json.loads(r.data)['data']['memes'][random_meme]['url']\n",
    "   \n",
    "    return Image(url=meme_url, width=500, height=500)\n",
    "\n",
    "\n",
    "print(\"РАБОТАЕТ!!!\")\n",
    "    "
   ]
  },
  {
   "cell_type": "code",
   "execution_count": null,
   "metadata": {},
   "outputs": [],
   "source": [
    "getRandomMeme()"
   ]
  },
  {
   "cell_type": "code",
   "execution_count": null,
   "metadata": {},
   "outputs": [],
   "source": []
  }
 ],
 "metadata": {
  "kernelspec": {
   "display_name": "Python 3",
   "language": "python",
   "name": "python3"
  },
  "language_info": {
   "codemirror_mode": {
    "name": "ipython",
    "version": 3
   },
   "file_extension": ".py",
   "mimetype": "text/x-python",
   "name": "python",
   "nbconvert_exporter": "python",
   "pygments_lexer": "ipython3",
   "version": "3.7.3"
  }
 },
 "nbformat": 4,
 "nbformat_minor": 4
}
